{
 "cells": [
  {
   "cell_type": "markdown",
   "id": "30d87d9c",
   "metadata": {},
   "source": [
    "# 01 Jupyter Notebook užduotis (2022.05)"
   ]
  },
  {
   "cell_type": "code",
   "execution_count": 38,
   "id": "3f2da6a0",
   "metadata": {},
   "outputs": [],
   "source": [
    "import numpy as np\n",
    "import pandas as pd\n",
    "import matplotlib.pyplot as plt"
   ]
  },
  {
   "cell_type": "markdown",
   "id": "bd0886fb",
   "metadata": {},
   "source": [
    "### Pasiimti duomenis iš trijų šaltinių:\n",
    "    - Environmental_Data_Deep_Moor_2013, \n",
    "    - Environmental_Data_Deep_Moor_2014, \n",
    "    - Environmental_Data_Deep_Moor_2015"
   ]
  },
  {
   "cell_type": "markdown",
   "id": "088f51c7",
   "metadata": {},
   "source": [
    "### Duomenų paėmimui ir darbui su duomenis naudojame tris pagrindines funkcijas:"
   ]
  },
  {
   "cell_type": "code",
   "execution_count": 39,
   "id": "0d62c3c7",
   "metadata": {},
   "outputs": [],
   "source": [
    "def get_df(year):\n",
    "    return pd.read_csv('Environmental_Data_Deep_Moor_{}.csv'.format(year))"
   ]
  },
  {
   "cell_type": "code",
   "execution_count": 40,
   "id": "fa703c7a",
   "metadata": {},
   "outputs": [],
   "source": [
    "def monthly_avg_calc(month, column):\n",
    "    return df[df['date'].str.contains('201[345]_[0]?' + str(month))][column].mean()"
   ]
  },
  {
   "cell_type": "code",
   "execution_count": 41,
   "id": "1df04719",
   "metadata": {},
   "outputs": [],
   "source": [
    "def yearly_avg(category):\n",
    "    return list(map(lambda m: monthly_avg_calc(m, category), range(1,13)))"
   ]
  },
  {
   "cell_type": "markdown",
   "id": "727473c3",
   "metadata": {},
   "source": [
    "### Nubraižyti Line grafiką kiekvieno mėnesio 2013 metų oro temperatūros vidurkį."
   ]
  },
  {
   "cell_type": "code",
   "execution_count": 42,
   "id": "1b73aa08",
   "metadata": {},
   "outputs": [],
   "source": [
    "df = get_df('2013')"
   ]
  },
  {
   "cell_type": "code",
   "execution_count": 43,
   "id": "68d9ded1",
   "metadata": {},
   "outputs": [
    {
     "data": {
      "text/html": [
       "<div>\n",
       "<style scoped>\n",
       "    .dataframe tbody tr th:only-of-type {\n",
       "        vertical-align: middle;\n",
       "    }\n",
       "\n",
       "    .dataframe tbody tr th {\n",
       "        vertical-align: top;\n",
       "    }\n",
       "\n",
       "    .dataframe thead th {\n",
       "        text-align: right;\n",
       "    }\n",
       "</style>\n",
       "<table border=\"1\" class=\"dataframe\">\n",
       "  <thead>\n",
       "    <tr style=\"text-align: right;\">\n",
       "      <th></th>\n",
       "      <th>date</th>\n",
       "      <th>time</th>\n",
       "      <th>Air_Temp</th>\n",
       "      <th>Barometric_Press</th>\n",
       "      <th>Dew_Point</th>\n",
       "      <th>Relative_Humidity</th>\n",
       "      <th>Wind_Dir</th>\n",
       "      <th>Wind_Gust</th>\n",
       "      <th>Wind_Speed</th>\n",
       "    </tr>\n",
       "  </thead>\n",
       "  <tbody>\n",
       "    <tr>\n",
       "      <th>0</th>\n",
       "      <td>2013_01_01</td>\n",
       "      <td>0:03:23</td>\n",
       "      <td>30.8</td>\n",
       "      <td>28.3</td>\n",
       "      <td>21.3</td>\n",
       "      <td>67.4</td>\n",
       "      <td>98.6</td>\n",
       "      <td>4</td>\n",
       "      <td>0.0</td>\n",
       "    </tr>\n",
       "    <tr>\n",
       "      <th>1</th>\n",
       "      <td>2013_01_01</td>\n",
       "      <td>6:29:08</td>\n",
       "      <td>28.0</td>\n",
       "      <td>28.4</td>\n",
       "      <td>24.2</td>\n",
       "      <td>85.2</td>\n",
       "      <td>61.8</td>\n",
       "      <td>2</td>\n",
       "      <td>0.0</td>\n",
       "    </tr>\n",
       "    <tr>\n",
       "      <th>2</th>\n",
       "      <td>2013_01_01</td>\n",
       "      <td>6:35:16</td>\n",
       "      <td>28.1</td>\n",
       "      <td>28.4</td>\n",
       "      <td>24.6</td>\n",
       "      <td>86.6</td>\n",
       "      <td>52.2</td>\n",
       "      <td>1</td>\n",
       "      <td>0.0</td>\n",
       "    </tr>\n",
       "    <tr>\n",
       "      <th>3</th>\n",
       "      <td>2013_01_01</td>\n",
       "      <td>6:41:25</td>\n",
       "      <td>28.1</td>\n",
       "      <td>28.4</td>\n",
       "      <td>24.6</td>\n",
       "      <td>86.4</td>\n",
       "      <td>62.8</td>\n",
       "      <td>2</td>\n",
       "      <td>0.0</td>\n",
       "    </tr>\n",
       "    <tr>\n",
       "      <th>4</th>\n",
       "      <td>2013_01_01</td>\n",
       "      <td>6:47:33</td>\n",
       "      <td>28.0</td>\n",
       "      <td>28.4</td>\n",
       "      <td>24.3</td>\n",
       "      <td>85.6</td>\n",
       "      <td>45.6</td>\n",
       "      <td>2</td>\n",
       "      <td>0.2</td>\n",
       "    </tr>\n",
       "  </tbody>\n",
       "</table>\n",
       "</div>"
      ],
      "text/plain": [
       "         date     time  Air_Temp  Barometric_Press  Dew_Point  \\\n",
       "0  2013_01_01  0:03:23      30.8              28.3       21.3   \n",
       "1  2013_01_01  6:29:08      28.0              28.4       24.2   \n",
       "2  2013_01_01  6:35:16      28.1              28.4       24.6   \n",
       "3  2013_01_01  6:41:25      28.1              28.4       24.6   \n",
       "4  2013_01_01  6:47:33      28.0              28.4       24.3   \n",
       "\n",
       "   Relative_Humidity  Wind_Dir  Wind_Gust  Wind_Speed  \n",
       "0               67.4      98.6          4         0.0  \n",
       "1               85.2      61.8          2         0.0  \n",
       "2               86.6      52.2          1         0.0  \n",
       "3               86.4      62.8          2         0.0  \n",
       "4               85.6      45.6          2         0.2  "
      ]
     },
     "execution_count": 43,
     "metadata": {},
     "output_type": "execute_result"
    }
   ],
   "source": [
    "df.head()"
   ]
  },
  {
   "cell_type": "code",
   "execution_count": 44,
   "id": "7b0e8cf0",
   "metadata": {},
   "outputs": [
    {
     "data": {
      "image/png": "[encoded data removed]",
      "text/plain": [
       "<Figure size 432x288 with 1 Axes>"
      ]
     },
     "metadata": {
      "needs_background": "light"
     },
     "output_type": "display_data"
    }
   ],
   "source": [
    "plt.plot(yearly_avg('Air_Temp'), label='Air temperature')\n",
    "plt.title('2013 y. monthly average temperature')\n",
    "plt.legend()\n",
    "plt.show()"
   ]
  },
  {
   "cell_type": "markdown",
   "id": "8a11297b",
   "metadata": {},
   "source": [
    "### Nubraižyti Line grafiką kiekvieno mėnesio 2014 metų oro temperatūros vidurkį."
   ]
  },
  {
   "cell_type": "code",
   "execution_count": 45,
   "id": "197914a7",
   "metadata": {},
   "outputs": [],
   "source": [
    "df = get_df('2014')"
   ]
  },
  {
   "cell_type": "code",
   "execution_count": 46,
   "id": "493987fb",
   "metadata": {},
   "outputs": [
    {
     "data": {
      "image/png": "[encoded data removed]",
      "text/plain": [
       "<Figure size 432x288 with 1 Axes>"
      ]
     },
     "metadata": {
      "needs_background": "light"
     },
     "output_type": "display_data"
    }
   ],
   "source": [
    "plt.plot(yearly_avg('Air_Temp'), label='Air temperature')\n",
    "plt.title('2014 y. monthly average temperature')\n",
    "plt.legend()\n",
    "plt.show()"
   ]
  },
  {
   "cell_type": "markdown",
   "id": "b6d455b6",
   "metadata": {},
   "source": [
    "### Nubraižyti Line grafiką kiekvieno mėnesio 2015 metų oro temperatūros vidurkį."
   ]
  },
  {
   "cell_type": "code",
   "execution_count": 48,
   "id": "93f42dad",
   "metadata": {},
   "outputs": [],
   "source": [
    "df = get_df('2015')"
   ]
  },
  {
   "cell_type": "code",
   "execution_count": 30,
   "id": "cc38ac24",
   "metadata": {},
   "outputs": [],
   "source": [
    "def yearly_avg(category):\n",
    "    return list(map(lambda m: monthly_avg_calc(m, category), range(1,13)))"
   ]
  },
  {
   "cell_type": "code",
   "execution_count": 49,
   "id": "5072748a",
   "metadata": {},
   "outputs": [
    {
     "data": {
      "image/png": "[encoded data removed]",
      "text/plain": [
       "<Figure size 432x288 with 1 Axes>"
      ]
     },
     "metadata": {
      "needs_background": "light"
     },
     "output_type": "display_data"
    }
   ],
   "source": [
    "plt.plot(yearly_avg('Air_Temp'), label='Air temperature')\n",
    "plt.title('2015 y. monthly average temperature')\n",
    "plt.legend()\n",
    "plt.show()"
   ]
  },
  {
   "cell_type": "markdown",
   "id": "d32e48bc",
   "metadata": {},
   "source": [
    "### Nubraižyti Bar grafiką metinio 2013-2015 metų oro temperatūros vidurkį.\n",
    "- Lentelėje atvaizduoti karščiausią kiekvienų metų dieną ir temperatūrą.\n",
    "- Lentelėje atvaizduoti šalčiausią kiekvienų metų dieną ir temperatūrą."
   ]
  },
  {
   "cell_type": "code",
   "execution_count": 67,
   "id": "ed88245b",
   "metadata": {},
   "outputs": [],
   "source": [
    "def get_years(arr_years):\n",
    "    newarr=[];\n",
    "    for x in arr_years:\n",
    "        df = get_df(x)\n",
    "        newarr.append(df)\n",
    "    return newarr"
   ]
  },
  {
   "cell_type": "code",
   "execution_count": 68,
   "id": "47133a7c",
   "metadata": {},
   "outputs": [],
   "source": [
    "arr = [2013, 2014, 2015]"
   ]
  },
  {
   "cell_type": "code",
   "execution_count": 69,
   "id": "ef433909",
   "metadata": {},
   "outputs": [],
   "source": [
    "heights = [year['Air_Temp'].mean() for year in get_years(arr)]"
   ]
  },
  {
   "cell_type": "code",
   "execution_count": 72,
   "id": "0f441490",
   "metadata": {},
   "outputs": [
    {
     "data": {
      "image/png": "[encoded data removed]",
      "text/plain": [
       "<Figure size 432x288 with 1 Axes>"
      ]
     },
     "metadata": {
      "needs_background": "light"
     },
     "output_type": "display_data"
    }
   ],
   "source": [
    "alphas = [height/max(heights) for height in heights]\n",
    "colors = [(.1,.7,.2,a) for a in alphas]\n",
    "plt.bar(arr, heights, .6, color=colors)\n",
    "plt.ylabel('Farenheit', fontsize=12)\n",
    "plt.title('Average Temperature', fontsize=16)\n",
    "plt.xticks(np.arange(2013,2016,1), rotation=60, fontsize=12)\n",
    "plt.show()"
   ]
  },
  {
   "cell_type": "code",
   "execution_count": 79,
   "id": "0eddbf85",
   "metadata": {},
   "outputs": [],
   "source": [
    "def max_temp(y):\n",
    "    return y[y['Air_Temp']==y['Air_Temp'].max()]"
   ]
  },
  {
   "cell_type": "code",
   "execution_count": 80,
   "id": "6aa31a66",
   "metadata": {},
   "outputs": [],
   "source": [
    "def min_temp(y):\n",
    "    return y[y['Air_Temp']==y['Air_Temp'].min()]"
   ]
  },
  {
   "cell_type": "code",
   "execution_count": 81,
   "id": "300d1396",
   "metadata": {},
   "outputs": [],
   "source": [
    "def min_max_temps(arr):\n",
    "    return[(max_temp(y)['Air_Temp'].values[0],\n",
    "           max_temp(y)['date'].values[0],\n",
    "           min_temp(y)['Air_Temp'].values[0],\n",
    "           min_temp(y)['date'].values[0]\n",
    "           )for y in get_years(arr)]"
   ]
  },
  {
   "cell_type": "code",
   "execution_count": 102,
   "id": "d23d909e",
   "metadata": {},
   "outputs": [
    {
     "data": {
      "image/png": "[encoded data removed]",
      "text/plain": [
       "<Figure size 432x288 with 1 Axes>"
      ]
     },
     "metadata": {
      "needs_background": "light"
     },
     "output_type": "display_data"
    }
   ],
   "source": [
    "plt.bar(arr, heights, .6, color=colors)\n",
    "plt.ylabel('Farenheit', fontsize=12)\n",
    "plt.title('Average Temperature', fontsize=16)\n",
    "rows = ['2013', '2014', '2015']\n",
    "columns = ['Max', 'Date', 'Min', 'Date']\n",
    "plt.table(cellText=min_max_temps(arr),\n",
    "         rowLabels=rows,\n",
    "         colLabels=columns,\n",
    "         rowColours=colors,\n",
    "         cellColours=[[c]*4 for c in colors])\n",
    "plt.xticks([])\n",
    "plt.ylim(0,80)\n",
    "plt.show()"
   ]
  },
  {
   "cell_type": "code",
   "execution_count": null,
   "id": "5ef3634c",
   "metadata": {},
   "outputs": [],
   "source": []
  }
 ],
 "metadata": {
  "kernelspec": {
   "display_name": "Python 3 (ipykernel)",
   "language": "python",
   "name": "python3"
  },
  "language_info": {
   "codemirror_mode": {
    "name": "ipython",
    "version": 3
   },
   "file_extension": ".py",
   "mimetype": "text/x-python",
   "name": "python",
   "nbconvert_exporter": "python",
   "pygments_lexer": "ipython3",
   "version": "3.9.7"
  }
 },
 "nbformat": 4,
 "nbformat_minor": 5
}
